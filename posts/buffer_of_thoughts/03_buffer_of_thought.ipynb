{
 "cells": [
  {
   "cell_type": "raw",
   "metadata": {
    "vscode": {
     "languageId": "raw"
    }
   },
   "source": [
    "---\n",
    "title: \"Buffer of Thoughts (BoT)\"\n",
    "description: \"This blog delves into the implementation of an agentic framework leveraging LangGraph’s Long-term memory feature. It demonstrates how this capability enhances the BoT agent’s ability to reason and solve complex problems by retaining and utilizing contextual information over time. Practical examples showcase the potential of LangGraph for building advanced, memory-augmented LLM agents.\"\n",
    "author: \"Oliver Pfante\"\n",
    "date: \"2025-01-26\"\n",
    "categories: [agentic, code]\n",
    "image: \"bot_agent.webp\"\n",
    "toc: true\n",
    "jupyter: python3\n",
    "execute: \n",
    "  enabled: false\n",
    "bibliography: ../references.bibtex\n",
    "---\n",
    "\n"
   ]
  },
  {
   "cell_type": "markdown",
   "metadata": {},
   "source": [
    "\n",
    "The \"Buffer of Thoughts\" (BoT)[@yang2024bufferthoughtsthoughtaugmentedreasoning] is a framework designed to enhance the **accuracy**, **efficiency**, and **robustness** of Large Language Models (LLMs) in reasoning tasks.\n",
    "\n",
    "## **Key Features of BoT**\n",
    "1. **Long-term memory** \n",
    "    BoT introduces a **Meta-Buffer**, which serves as a kind of Long-term memory, persisting across different sessions. This repository stores high-level **thought-templates** distilled from prior problem-solving processes. These templates are retrieved and adapted for diverse tasks, eliminating the need to design reasoning structures anew.\n",
    "2. **Three Components**\n",
    "    - **Problem-Distiller**: Responsible for extracting key information and constraints from tasks.\n",
    "    - **Meta-Buffer**: A lightweight memory storing thought-templates, which can span across various categories and domains. While six categories are mentioned in the paper (e.g., text comprehension, mathematical reasoning), the framework is not inherently restricted to this classification or number.\n",
    "    - **Buffer-Manager**: Dynamically updates the meta-buffer by distilling new templates as tasks are solved, ensuring the memory evolves with experience.\n",
    "3. **Advantages**\n",
    "    - **Improved Accuracy**: By adapting templates to different tasks, BoT achieves precise and reliable reasoning.\n",
    "    - **Efficiency**: Stored templates allow LLMs to bypass complex multi-query reasoning, streamlining the process.\n",
    "    - **Robustness**: The generalized reasoning framework ensures consistent performance across a variety of tasks.\n",
    "\n",
    "## Notebook Objective\n",
    "- Demonstrates the implementation of BoT using **LangGraph**, highlighting Long-term memory capabilities via a `BaseStore` object for persistent storage and retrieval of thought-templates.  \n",
    "- Showcases LangGraph's support for dynamic and adaptive memory, enhancing LLMs' reasoning capabilities within the BoT framework.  "
   ]
  },
  {
   "cell_type": "markdown",
   "metadata": {},
   "source": [
    "![Illustration of the BoT Method. Figure taken from [@yang2024bufferthoughtsthoughtaugmentedreasoning]](bot_agent.png)"
   ]
  },
  {
   "cell_type": "markdown",
   "metadata": {},
   "source": [
    "## Setup"
   ]
  },
  {
   "cell_type": "code",
   "execution_count": 1,
   "metadata": {},
   "outputs": [],
   "source": [
    "from pydantic import BaseModel, Field\n",
    "from typing import Literal, Optional\n",
    "import textwrap\n",
    "import os\n",
    "import uuid\n",
    "from pprint import pprint\n",
    "import re\n",
    "\n",
    "from langgraph.graph import StateGraph, END, START, MessagesState\n",
    "from langgraph.checkpoint.memory import MemorySaver\n",
    "from langgraph.store.base import BaseStore\n",
    "from langchain_core.runnables import RunnableConfig\n",
    "from langchain_core.messages import AIMessage\n",
    "from langchain_openai import ChatOpenAI\n",
    "from langgraph.store.memory import InMemoryStore\n",
    "from langchain_core.prompts import PromptTemplate\n",
    "from trustcall import create_extractor\n",
    "from langchain.embeddings import init_embeddings"
   ]
  },
  {
   "cell_type": "markdown",
   "metadata": {},
   "source": [
    "## Prompts\n",
    "\n",
    "We start by writing down the relevant prompts for each of the three components. They are copy-pasted from the original publication."
   ]
  },
  {
   "cell_type": "code",
   "execution_count": 2,
   "metadata": {},
   "outputs": [],
   "source": [
    "problem_distiller_prompt = textwrap.dedent(\n",
    "    \"\"\"\n",
    "    ## Problem-Distiller\n",
    "\n",
    "    You are a highly professional and intelligent expert in information distillation. Your role is to extract essential information from user input queries to solve problems effectively. You also transform this extracted information into a suitable format based on the type of issue.\n",
    "\n",
    "    ---\n",
    "\n",
    "    ### Task Instructions\n",
    "\n",
    "    1. **Key Information**:\n",
    "    - Extract values and key variables from the user input.\n",
    "    - Ensure all essential information required to solve the problem is provided.\n",
    "    - Hand over this distilled information to the respective expert for task resolution.\n",
    "\n",
    "    2. **Restrictions**:\n",
    "    - Identify the objective of the problem.\n",
    "    - Outline any corresponding constraints that must be adhered to.\n",
    "\n",
    "    3. **Distilled Task**:\n",
    "    - Extend the problem based on the extracted key information and constraints.\n",
    "    - Summarize a meta problem that addresses the user query and accommodates more input and output variations.\n",
    "    - Incorporate the real-world scenario of the extended problem.\n",
    "    - Define types of key variables and information constraints from the original problem to restrict variables in the extended problem.\n",
    "    - Use the input key information from the user query as an example to solve the problem.\n",
    "    \"\"\"\n",
    ").strip()"
   ]
  },
  {
   "cell_type": "markdown",
   "metadata": {},
   "source": [
    "The Instantiate Reasoning step is part of the Meta-Buffer and adapts thought-templates to solve specific tasks. It either instantiates a retrieved template with task-specific reasoning structures or assigns a general template for new tasks, ensuring efficient and accurate problem-solving."
   ]
  },
  {
   "cell_type": "code",
   "execution_count": 3,
   "metadata": {},
   "outputs": [],
   "source": [
    "instantiate_reasoning_prompt = textwrap.dedent(\n",
    "    \"\"\"\n",
    "    ## Meta Reasoner\n",
    "\n",
    "    You are a Meta Reasoner who is extremely knowledgeable in various fields, including Computer Science, Math, Physics, Literature, History, Chemistry, Logical Reasoning, Culture, and Language. You are also skilled in applying high-level reasoning structures for different tasks. \n",
    "\n",
    "    ### Reasoning Structures:\n",
    "\n",
    "    1. **Prompt-based Structure**:\n",
    "    - **Best For**: Common Sense Reasoning, Application Scheduling.\n",
    "    \n",
    "    2. **Procedure-based Structure**:\n",
    "    - **Best For**: Creative tasks like Creative Language Generation, and Text Comprehension.\n",
    "    \n",
    "    3. **Programming-based Structure**:\n",
    "    - **Best For**: Mathematical Reasoning, Code Programming.\n",
    "    - Can transform real-world problems into programming problems to solve efficiently.\n",
    "\n",
    "    ---\n",
    "\n",
    "    ### Reasoning Instantiation\n",
    "\n",
    "    **Your Task:**\n",
    "\n",
    "    1. **Contextual Analysis**: Deliberately consider the context and the problem distilled from the Problem-Distiller. Use your understanding to identify a suitable domain expert for solving the problem.\n",
    "\n",
    "    2. **Structure Selection**: Based on the distilled information, select one of the reasoning structures suitable for addressing the problem.\n",
    "\n",
    "    3. **Template Application**: If a thought-template is provided, directly follow it to instantiate the solution for the given problem.\n",
    "    \"\"\"\n",
    ").strip()"
   ]
  },
  {
   "cell_type": "markdown",
   "metadata": {},
   "source": [
    "The following prompts outline the behavior of the Buffer-Manager and the process for creating a new template when no suitable template is found during the Meta-Buffer’s template retrieval step. This process, known as *Template Distillation*, involves two key steps: first, summarizing the task using the distilled task description and the derived solution; second, leveraging this summary to perform a contextual search for in-task and cross-task examples, which are then used as few-shot examples to generate the new template."
   ]
  },
  {
   "cell_type": "code",
   "execution_count": 4,
   "metadata": {},
   "outputs": [],
   "source": [
    "# prompt to infer the core task summary. That one is needed for contextual search for relevant in-task and cross-task templates as few-shot examples for generating the\n",
    "core_task_summarization_prompt = textwrap.dedent(\n",
    "    \"\"\"\n",
    "    ## Prompt for Template Distillation:\n",
    "\n",
    "    **User Input**:\n",
    "    **Problem Description**: {distilled_task}\n",
    "    **Solution Steps or Code**: {solution_steps}\n",
    "\n",
    "    1. **Core task summarization**:\n",
    "        Identify and describe the basic type and core challenges of the problem, such as classifying it as a mathematical problem (e.g., solving a quadratic equation), a data structure problem (e.g., array sorting), an algorithm problem (e.g., search algorithms), etc. And analyze the most efficient way to solve the problem.\n",
    "    \"\"\"\n",
    ").strip()\n",
    "\n",
    "\n",
    "template_distiller_prompt = textwrap.dedent(\n",
    "    \"\"\"\n",
    "    ## Prompt for Template Distillation (continued)\n",
    "\n",
    "    2. **Solution Steps Description**:\n",
    "    Outline the general solution steps, including how to define the problem, determine variables, list key equations or constraints, choose appropriate solving strategies and methods, and how to verify the correctness of the results.\n",
    "\n",
    "    3. **General Answer Template**:\n",
    "    Based on the above analysis, propose a template or approach that can be widely applied to this type of problem, including possible variables, functions, class definitions, etc. If it is a programming problem, provide a set of base classes and interfaces that can be used to construct solutions to specific problems.\n",
    "\n",
    "    Please ensure that your response is highly concise and structured, so that specific solutions can be transformed into generalizable methods.\n",
    "\n",
    "    [Optional] Here are some exemplars of the thought-template:\n",
    "\n",
    "    <in-task-examples>\n",
    "    {in_task_examples}\n",
    "    <in-task-examples>\n",
    "\n",
    "    <cross-task-examples>\n",
    "    {cross_task_examples}\n",
    "    <cross-task-examples>\n",
    "    \"\"\"\n",
    ").strip()"
   ]
  },
  {
   "cell_type": "markdown",
   "metadata": {},
   "source": [
    "Some prompts, provided to the [Trustcall Executors](https://github.com/hinthornw/trustcall) defined in the next section, are used to extract structured output from the plain text responses of the LLM."
   ]
  },
  {
   "cell_type": "code",
   "execution_count": 5,
   "metadata": {},
   "outputs": [],
   "source": [
    "structure_prompt = textwrap.dedent(\n",
    "    \"\"\"\n",
    "    Extract the items of the 'ThoughtTemplate' Pydantic class from the previous conversation.\n",
    "                                    \n",
    "    <convo>\n",
    "    {conversation}\n",
    "    </convo> \n",
    "    \"\"\"\n",
    ").strip()\n",
    "\n",
    "distilled_task_extractor_prompt = textwrap.dedent(\n",
    "    \"\"\"\n",
    "    Extract the content of the 'Extended Problem' subsection within the 'Distilled Task' section from the entire distilled problem description.\n",
    "\n",
    "    <distilled-problem>\n",
    "    {distilled_problem}\n",
    "    <distilled-problem>\n",
    "    \"\"\"\n",
    ").strip()"
   ]
  },
  {
   "cell_type": "markdown",
   "metadata": {},
   "source": [
    "## Templates\n",
    "\n",
    "A Pydantic class is used to digest and extract Thought Templates in the required format. It consists of three sections: a \"Task Description\" which provides a brief overview of the task; a \"Solution Description\" which outlines a high-level approach to solving the task; and finally, the \"Thought-Template\" itself, which offers a step-by-step guide for solving the problem."
   ]
  },
  {
   "cell_type": "code",
   "execution_count": 6,
   "metadata": {},
   "outputs": [],
   "source": [
    "class ThoughtTemplate(BaseModel):\n",
    "    \"\"\"Defining the three fields of the Thought-Template\"\"\"\n",
    "\n",
    "    task_description: str = Field(description=\"Task Description\")\n",
    "    solution_description: str = Field(description=\"Solution Description\")\n",
    "    thought_template: str = Field(description=\"Thought-Template\")"
   ]
  },
  {
   "cell_type": "markdown",
   "metadata": {},
   "source": [
    "## Runnables\n",
    "\n",
    "The [Lang-Chain Runnables](https://python.langchain.com/docs/concepts/runnables/) encapsulating the main logic of the subsequently defined nodes of the graph."
   ]
  },
  {
   "cell_type": "code",
   "execution_count": 7,
   "metadata": {},
   "outputs": [],
   "source": [
    "# Setup Large Language Model (LLM)\n",
    "LLM = ChatOpenAI(\n",
    "    model_name=\"gpt-4o-mini\",\n",
    "    openai_api_key=os.getenv(\"OPENAI_API_KEY\"),\n",
    "    temperature=0.0,\n",
    ")"
   ]
  },
  {
   "cell_type": "code",
   "execution_count": 8,
   "metadata": {},
   "outputs": [],
   "source": [
    "# Define Trustcall instance for sane extraction of the Thought-Template items: Task Description, Solution Description, Thought-Template\n",
    "structure_template_text = create_extractor(\n",
    "    LLM, tools=[ThoughtTemplate], tool_choice=\"ThoughtTemplate\"\n",
    ")\n",
    "\n",
    "# Extract the distilled task from the distilled problem. Required for the semantic search in the Template retrieval step.\n",
    "distilled_task_extractor = (\n",
    "    PromptTemplate.from_template(\n",
    "        template=distilled_task_extractor_prompt) | LLM\n",
    ")"
   ]
  },
  {
   "cell_type": "markdown",
   "metadata": {},
   "source": [
    "## Long-term memory"
   ]
  },
  {
   "cell_type": "markdown",
   "metadata": {},
   "source": [
    "All Thought-Templates are stored in a Long-term memory to ensure their availability across sessions. The Long-term memory supports semantic search on the Task Description of each Thought-Template, which plays a crucial role in two steps: first, during template retrieval in the Meta-Buffer, where a relevant template is identified for the problem; and second, during Template Distillation by the Buffer-Manager, where it is used to retrieve relevant in-task and cross-task few-shot examples for generating a new template."
   ]
  },
  {
   "cell_type": "code",
   "execution_count": 9,
   "metadata": {},
   "outputs": [
    {
     "name": "stderr",
     "output_type": "stream",
     "text": [
      "/var/folders/9y/v7607j0j5vn1tnw1_fjpl4s40000gn/T/ipykernel_71541/2854118368.py:4: LangChainBetaWarning: The function `init_embeddings` is in beta. It is actively being worked on, so the API may change.\n",
      "  \"embed\": init_embeddings(model=\"openai:text-embedding-3-small\"),\n"
     ]
    }
   ],
   "source": [
    "# Create store with semantic search enabled\n",
    "template_store = InMemoryStore(\n",
    "    index={\n",
    "        \"embed\": init_embeddings(model=\"openai:text-embedding-3-small\"),\n",
    "        \"dims\": 1536,\n",
    "        # semantic search is only conducted on the task_description field of a Thought Template\n",
    "        \"fields\": [\"task_description\"],\n",
    "    }\n",
    ")"
   ]
  },
  {
   "cell_type": "markdown",
   "metadata": {},
   "source": [
    "Optionally, one can populate the Thought-Template storage with predefined templates like the six ones listed in the appendix of [@yang2024bufferthoughtsthoughtaugmentedreasoning] or one can also start with a blank template store. In any case we need to assign a namespace for the Long-term memory, a kind of table name."
   ]
  },
  {
   "cell_type": "code",
   "execution_count": 10,
   "metadata": {},
   "outputs": [],
   "source": [
    "user_id = \"user_123\"\n",
    "long_term_memory = \"thought_templates\"\n",
    "namespace_for_memory = (user_id, long_term_memory)"
   ]
  },
  {
   "cell_type": "markdown",
   "metadata": {},
   "source": [
    "## States\n",
    "\n",
    "The state of the LangGraph agent is defined by inheriting from `MessageState`, the default state of LangGraph that stores the message history. Additionally, two more attributes are added, whose values are manipulated during the BoT agent's actions."
   ]
  },
  {
   "cell_type": "code",
   "execution_count": 11,
   "metadata": {},
   "outputs": [],
   "source": [
    "class BoTState(MessagesState):\n",
    "    # Thought-Template possibly extracted from the Long-term memory\n",
    "    template_text: Optional[str]\n",
    "    # part of the distilled problem description. Required for similarity computations\n",
    "    distilled_task: str"
   ]
  },
  {
   "cell_type": "markdown",
   "metadata": {},
   "source": [
    "## Nodes\n",
    "\n",
    "Nodes of the LangGraph agent which update the state. Each Node maps onto each step of the BoT agent."
   ]
  },
  {
   "cell_type": "code",
   "execution_count": 12,
   "metadata": {},
   "outputs": [],
   "source": [
    "def problem_distiller(state: BoTState) -> dict:\n",
    "    \"\"\"\n",
    "    Distills task information from the forwarded problem description using a Language Model (LLM).\n",
    "\n",
    "    This function represents the problem distillation step in the Buffer of Thoughts (BoT) framework.\n",
    "    It processes the most recent message, which is the original problem description, in the agent's\n",
    "    state to extract a distilled representation of the task and updates the state with the distilled task.\n",
    "\n",
    "    Parameters\n",
    "    ----------\n",
    "    state : BoTState\n",
    "        The current state of the agent, which contains the message history and other relevant attributes.\n",
    "\n",
    "    Returns\n",
    "    -------\n",
    "    dict\n",
    "        A dictionary with the following keys:\n",
    "        - \"distilled_task\" : str\n",
    "            The distilled task description extracted from the latest message which is the problem description.\n",
    "        - \"messages\" : str\n",
    "            The distilled problem description which contains the distilled task description but also a key information and problem constraints.\n",
    "    \"\"\"\n",
    "    # Invoke the LLM with the Problem-Distiller prompt and the latest message\n",
    "    distilled_task = LLM.invoke(\n",
    "        [problem_distiller_prompt, state[\"messages\"][-1]])\n",
    "\n",
    "    # Extract the distilled task description from the LLM response\n",
    "    return {\n",
    "        \"distilled_task\": distilled_task_extractor.invoke(\n",
    "            distilled_task.content\n",
    "        ).content,\n",
    "        \"messages\": distilled_task,  # Update state with the distilled task message\n",
    "    }"
   ]
  },
  {
   "cell_type": "code",
   "execution_count": 13,
   "metadata": {},
   "outputs": [],
   "source": [
    "def template_retrieval(\n",
    "    state: BoTState, config: RunnableConfig, store: BaseStore\n",
    ") -> dict:\n",
    "    \"\"\"\n",
    "    Retrieves the most relevant Thought-Template for a given task using semantic search.\n",
    "\n",
    "    This function conducts a semantic search between the distilled task and the task descriptions\n",
    "    of Thought-Templates stored in the Long-term memory. It selects the template with the highest\n",
    "    similarity score if it exceeds a user-defined threshold. If no suitable template is found, the\n",
    "    template field is left blank.\n",
    "\n",
    "    Parameters\n",
    "    ----------\n",
    "    state : BoTState\n",
    "        The current state of the agent, containing the distilled task and other relevant information.\n",
    "    config : RunnableConfig\n",
    "        Configuration object containing user-defined parameters, including the retrieval threshold.\n",
    "    store : BaseStore\n",
    "        The Long-term memory store where Thought-Templates are stored and queried.\n",
    "\n",
    "    Returns\n",
    "    -------\n",
    "    dict\n",
    "        A dictionary with the following key:\n",
    "        - \"template_text\" : str or None\n",
    "            The text of the retrieved Thought-Template if it satisfies the similarity threshold,\n",
    "            otherwise None.\n",
    "    \"\"\"\n",
    "    # Perform semantic search between the distilled task and templates in Long-term memory\n",
    "    items = store.search(namespace_for_memory,\n",
    "                         query=state[\"distilled_task\"], limit=1)\n",
    "    template = items.pop() if items else None\n",
    "\n",
    "    # Check if the retrieved template exceeds the similarity threshold\n",
    "    if template and template.score > config[\"configurable\"][\"retrieval_threshold\"]:\n",
    "        template_text = {\n",
    "            key: val for key, val in template.value.items() if key != \"task_description\"\n",
    "        }\n",
    "        return {\"template_text\": template_text}\n",
    "    else:\n",
    "        return {\"template_text\": None}"
   ]
  },
  {
   "cell_type": "code",
   "execution_count": 14,
   "metadata": {},
   "outputs": [],
   "source": [
    "def instantiate_reasoning(state: BoTState) -> dict:\n",
    "    \"\"\"\n",
    "    Executes the main solution step for the BoT agent by attempting to solve the problem.\n",
    "\n",
    "    This function represents the core reasoning process in the Buffer of Thoughts (BoT) framework.\n",
    "    It uses either a retrieved Thought-Template to guide the solution or, if no template is available,\n",
    "    applies a general solution approach as defined in the prompt.\n",
    "\n",
    "    Parameters\n",
    "    ----------\n",
    "    state : BoTState\n",
    "        The current state of the agent, containing the task description, Thought-Template (if retrieved),\n",
    "        and other relevant information.\n",
    "\n",
    "    Returns\n",
    "    -------\n",
    "    dict\n",
    "        A dictionary with the following key:\n",
    "        - \"messages\" : str\n",
    "            The result of the reasoning step, either guided by the Thought-Template or generated\n",
    "            using a general approach.\n",
    "    \"\"\"\n",
    "    if state[\"template_text\"]:\n",
    "        # Reasoning step guided by the retrieved Thought-Template\n",
    "        return {\n",
    "            \"messages\": LLM.invoke(\n",
    "                [\n",
    "                    state[\"messages\"][-1],\n",
    "                    (\n",
    "                        \"user\",\n",
    "                        instantiate_reasoning_prompt\n",
    "                        + f\"\\n\\n<thought-template>\\n{state['template_text']}\\n<thought-template>\",\n",
    "                    ),\n",
    "                ]\n",
    "            )\n",
    "        }\n",
    "    else:\n",
    "        # Reasoning step using a general solution approach\n",
    "        return {\n",
    "            \"messages\": LLM.invoke(\n",
    "                [state[\"messages\"][-1], (\"user\", instantiate_reasoning_prompt)]\n",
    "            )\n",
    "        }"
   ]
  },
  {
   "cell_type": "code",
   "execution_count": 15,
   "metadata": {},
   "outputs": [],
   "source": [
    "def template_distillation(\n",
    "    state: BoTState, config: RunnableConfig, store: BaseStore\n",
    ") -> dict:\n",
    "    \"\"\"\n",
    "    Distills a new Thought-Template when no suitable template is found in the Long-term memory.\n",
    "\n",
    "    This function is used when the Buffer of Thoughts (BoT) agent fails to retrieve a proper thought\n",
    "    template. It distills a new template by analyzing the task description and the derived solution.\n",
    "    Relevant in-task and cross-task examples (i.e., similar and diverse Thought-Templates) are retrieved\n",
    "    from the Long-term memory to guide the derivation of a new template.\n",
    "\n",
    "    Parameters\n",
    "    ----------\n",
    "    state : BoTState\n",
    "        The current state of the agent, containing the distilled task, derived solution, and other relevant details.\n",
    "    config : RunnableConfig\n",
    "        Configuration object containing user-defined parameters, including thresholds and limits for in-task\n",
    "        and cross-task template retrieval.\n",
    "    store : BaseStore\n",
    "        The Long-term memory store where Thought-Templates are stored and queried.\n",
    "\n",
    "    Returns\n",
    "    -------\n",
    "    dict\n",
    "        A dictionary containing:\n",
    "        - \"messages\" : str\n",
    "            The distilled Thought-Template generated by the BoT agent, guided by the retrieved in-task\n",
    "            and cross-task examples.\n",
    "    \"\"\"\n",
    "    # Summarize the core task and solution steps\n",
    "    core_task_summarization_msg = core_task_summarization_prompt.format(\n",
    "        distilled_task=state[\"distilled_task\"],\n",
    "        solution_steps=state[\"messages\"][-1].content,\n",
    "    )\n",
    "    # Generate task summary using LLM\n",
    "    task_summary = LLM.invoke(core_task_summarization_msg)\n",
    "\n",
    "    # Search for relevant Thought-Templates in the Long-term memory\n",
    "    items = store.search(\n",
    "        namespace_for_memory,\n",
    "        query=task_summary.content,\n",
    "        limit=config[\"configurable\"][\"limit\"],\n",
    "    )\n",
    "\n",
    "    # Separate templates into in-task and cross-task examples based on their similarity scores\n",
    "    in_task_l = [\n",
    "        template\n",
    "        for template in items\n",
    "        if template.score > config[\"configurable\"][\"in_task_threshold\"]\n",
    "    ]\n",
    "    in_task = in_task_l.pop(0) if in_task_l else None\n",
    "\n",
    "    cross_task_l = [\n",
    "        template\n",
    "        for template in items\n",
    "        if template.score <= config[\"configurable\"][\"in_task_threshold\"]\n",
    "    ]\n",
    "    cross_task = cross_task_l.pop(0) if cross_task_l else None\n",
    "\n",
    "    # Use in-task and cross-task examples to guide the generation of a new Thought-Template\n",
    "    return {\n",
    "        \"messages\": LLM.invoke(\n",
    "            [\n",
    "                (\"user\", core_task_summarization_msg),  # Task summarization\n",
    "                task_summary,  # Task summary message\n",
    "                (\n",
    "                    \"user\",\n",
    "                    template_distiller_prompt.format(\n",
    "                        task_summary=task_summary,\n",
    "                        in_task_examples=in_task.value if in_task else {},\n",
    "                        cross_task_examples=cross_task.value if cross_task else {},\n",
    "                    ),\n",
    "                ),\n",
    "            ]\n",
    "        )\n",
    "    }"
   ]
  },
  {
   "cell_type": "code",
   "execution_count": 16,
   "metadata": {},
   "outputs": [],
   "source": [
    "def dynamic_meta_buffer_update(\n",
    "    state: BoTState, config: RunnableConfig, store: BaseStore\n",
    ") -> dict:\n",
    "    \"\"\"\n",
    "    Structures the distilled template into predefined sections and stores it in the Long-term memory.\n",
    "\n",
    "    This function processes the distilled template by organizing it into three sections:\n",
    "    'Task Description', 'Solution Description', and 'Thought-Template', as defined by the Pydantic class.\n",
    "    The structured template is then stored in the Long-term memory in JSON format.\n",
    "\n",
    "    Parameters\n",
    "    ----------\n",
    "    state : BoTState\n",
    "        The current state of the agent, containing the distilled template and related data.\n",
    "    config : RunnableConfig\n",
    "        Configuration object with user-defined parameters and metadata for storing the structured template.\n",
    "    store : BaseStore\n",
    "        The Long-term memory store where the structured template is saved in JSON format.\n",
    "\n",
    "    Returns\n",
    "    -------\n",
    "    dict\n",
    "        A dictionary containing:\n",
    "        - \"messages\" : str\n",
    "            A message confirming the successful update of the Meta-Buffer.\n",
    "    \"\"\"\n",
    "    # Structure the distilled template into defined sections using the structure prompt\n",
    "    result = structure_template_text.invoke(\n",
    "        {\n",
    "            \"messages\": [\n",
    "                structure_prompt.format(\n",
    "                    conversation=state[\"messages\"][-1].content)\n",
    "            ]\n",
    "        }\n",
    "    )\n",
    "\n",
    "    # Extract the structured response and associated metadata\n",
    "    r, rmeta = result[\"responses\"].pop(), result[\"response_metadata\"].pop()\n",
    "\n",
    "    # Store the structured template in the Long-term memory\n",
    "    store.put(\n",
    "        (user_id, long_term_memory),  # Memory namespace and user context\n",
    "        rmeta.get(\"json_doc_id\", str(uuid.uuid4())),  # Unique document ID\n",
    "        r.model_dump(mode=\"json\"),  # Save structured template as JSON\n",
    "    )\n",
    "\n",
    "    # Return confirmation of Meta-Buffer update\n",
    "    return {\"messages\": \"Meta-Buffer updated\"}"
   ]
  },
  {
   "cell_type": "markdown",
   "metadata": {},
   "source": [
    "## Conditional Edges\n",
    "\n",
    "In case a proper Thought-Template was found during the Thought-Template Retrieval step, we skip the distillation of a new template."
   ]
  },
  {
   "cell_type": "code",
   "execution_count": 17,
   "metadata": {},
   "outputs": [],
   "source": [
    "def update_required(state: BoTState) -> Literal[\"Buffer-Manager\", \"END\"]:\n",
    "    if state[\"template_text\"]:\n",
    "        return \"END\"\n",
    "    else:\n",
    "        return \"Buffer-Manager\""
   ]
  },
  {
   "cell_type": "markdown",
   "metadata": {},
   "source": [
    "## Build the Graph\n",
    "\n",
    "The graph representing the BoT agent consists of two sub-graphs: the Meta-Buffer and the Buffer-Manager. The Meta-Buffer handles the Template Retrieval and Reasoning Instantiation steps, while the Buffer-Manager generates a new Thought-Template and updates the Long-term memory if the Template Retrieval step fails to find a matching template for the problem."
   ]
  },
  {
   "cell_type": "code",
   "execution_count": 18,
   "metadata": {},
   "outputs": [
    {
     "data": {
      "text/plain": [
       "<langgraph.graph.state.StateGraph at 0x109eb8800>"
      ]
     },
     "execution_count": 18,
     "metadata": {},
     "output_type": "execute_result"
    }
   ],
   "source": [
    "meta_buffer = StateGraph(BoTState)\n",
    "\n",
    "# add nodes\n",
    "meta_buffer.add_node(\"Template Retrieval\", template_retrieval)\n",
    "meta_buffer.add_node(\"Instantiated Reasoning\", instantiate_reasoning)\n",
    "\n",
    "# add edges\n",
    "meta_buffer.add_edge(START, \"Template Retrieval\")\n",
    "meta_buffer.add_edge(\"Template Retrieval\", \"Instantiated Reasoning\")\n",
    "meta_buffer.add_edge(\"Instantiated Reasoning\", END)"
   ]
  },
  {
   "cell_type": "code",
   "execution_count": 19,
   "metadata": {},
   "outputs": [
    {
     "data": {
      "text/plain": [
       "<langgraph.graph.state.StateGraph at 0x109eb8560>"
      ]
     },
     "execution_count": 19,
     "metadata": {},
     "output_type": "execute_result"
    }
   ],
   "source": [
    "buffer_manager = StateGraph(BoTState)\n",
    "\n",
    "# add nodes\n",
    "buffer_manager.add_node(\"Template Distillation\", template_distillation)\n",
    "buffer_manager.add_node(\"Dynamic Update\", dynamic_meta_buffer_update)\n",
    "\n",
    "# add edges\n",
    "buffer_manager.add_edge(START, \"Template Distillation\")\n",
    "buffer_manager.add_edge(\"Template Distillation\", \"Dynamic Update\")\n",
    "buffer_manager.add_edge(\"Dynamic Update\", END)"
   ]
  },
  {
   "cell_type": "code",
   "execution_count": 20,
   "metadata": {},
   "outputs": [],
   "source": [
    "memory = MemorySaver()\n",
    "bot_graph = StateGraph(BoTState)\n",
    "\n",
    "# add nodes\n",
    "bot_graph.add_node(\"Problem-Distiller\", problem_distiller)\n",
    "bot_graph.add_node(\"Meta-Buffer\", meta_buffer.compile(checkpointer=memory))\n",
    "bot_graph.add_node(\n",
    "    \"Buffer-Manager\", buffer_manager.compile(checkpointer=memory))\n",
    "\n",
    "# add edges\n",
    "bot_graph.add_edge(START, \"Problem-Distiller\")\n",
    "bot_graph.add_edge(\"Problem-Distiller\", \"Meta-Buffer\")\n",
    "bot_graph.add_conditional_edges(\n",
    "    \"Meta-Buffer\", update_required, {\n",
    "        \"Buffer-Manager\": \"Buffer-Manager\", \"END\": END}\n",
    ")\n",
    "bot_graph.add_edge(\"Buffer-Manager\", END)\n",
    "\n",
    "# compile graph\n",
    "bot_agent = bot_graph.compile(checkpointer=memory, store=template_store)"
   ]
  },
  {
   "cell_type": "code",
   "execution_count": 22,
   "metadata": {},
   "outputs": [
    {
     "data": {
      "image/png": "[encoded data removed]",
      "text/plain": [
       "<IPython.core.display.Image object>"
      ]
     },
     "metadata": {},
     "output_type": "display_data"
    }
   ],
   "source": [
    "from IPython.display import Image, display\n",
    "\n",
    "# View\n",
    "display(Image(bot_agent.get_graph(xray=1).draw_mermaid_png()))"
   ]
  },
  {
   "cell_type": "markdown",
   "metadata": {},
   "source": [
    "## Run the Agent\n",
    "\n",
    "We run the agent twice for two different instances of the [Game of 24](https://github.com/princeton-nlp/tree-of-thought-llm)[@yao2023treethoughtsdeliberateproblem] where one needs to create a formula from a list of integers such that the result is 24."
   ]
  },
  {
   "cell_type": "code",
   "execution_count": 24,
   "metadata": {},
   "outputs": [],
   "source": [
    "data = [\n",
    "    {\n",
    "        \"numbers\": [3, 3, 6, 6],\n",
    "        \"solutions\": [\"(6/3+6)×3\"],\n",
    "        \"solvable\": True,\n",
    "        \"amt\": 30.23,\n",
    "        \"solved_rate\": 0.575,\n",
    "        \"mean_time\": 14.99,\n",
    "        \"std_time\": 9.07,\n",
    "    },\n",
    "    {\n",
    "        \"numbers\": [1, 1, 1, 11],\n",
    "        \"solutions\": [\"(11+1)\\u00d7(1+1)\"],\n",
    "        \"solvable\": True,\n",
    "        \"amt\": 5.28,\n",
    "        \"solved_rate\": 0.974,\n",
    "        \"mean_time\": 5.6,\n",
    "        \"std_time\": 1.67,\n",
    "    },\n",
    "]"
   ]
  },
  {
   "cell_type": "code",
   "execution_count": 25,
   "metadata": {},
   "outputs": [],
   "source": [
    "# wrap the instances of the dataset into some prompt\n",
    "prompts = [\n",
    "    f\"\"\"\n",
    "    Manipulate four numbers with basic arithmetic operations to reach 24.\n",
    "\n",
    "    <numbers>\n",
    "    {rec['numbers']}\n",
    "    <numbers>\n",
    "    \"\"\"\n",
    "    for rec in data\n",
    "]"
   ]
  },
  {
   "cell_type": "code",
   "execution_count": 26,
   "metadata": {},
   "outputs": [
    {
     "name": "stdout",
     "output_type": "stream",
     "text": [
      "================================\u001b[1m Human Message \u001b[0m=================================\n",
      "\n",
      "\n",
      "    Manipulate four numbers with basic arithmetic operations to reach 24.\n",
      "\n",
      "    <numbers>\n",
      "    [3, 3, 6, 6]\n",
      "    <numbers>\n",
      "    \n",
      "==================================\u001b[1m Ai Message \u001b[0m==================================\n",
      "\n",
      "### Key Information Extracted:\n",
      "- **Objective**: Manipulate the numbers [3, 3, 6, 6] using basic arithmetic operations (addition, subtraction, multiplication, division) to reach the target number 24.\n",
      "- **Key Variables**: \n",
      "  - Numbers: 3, 3, 6, 6\n",
      "  - Target: 24\n",
      "- **Operations Allowed**: Addition (+), Subtraction (-), Multiplication (*), Division (/)\n",
      "\n",
      "### Constraints:\n",
      "- Each number must be used exactly once.\n",
      "- Only basic arithmetic operations are allowed.\n",
      "- The solution must equal exactly 24.\n",
      "\n",
      "### Distilled Task:\n",
      "- **Extended Problem**: Given a set of four numbers, determine if it is possible to combine them using basic arithmetic operations to reach a specified target number. This can be generalized to any set of four numbers and any target number.\n",
      "- **Real-World Scenario**: This problem can be applied in various fields such as game design (e.g., number puzzles), education (teaching arithmetic), and algorithm development (solving combinatorial problems).\n",
      "\n",
      "### Types of Key Variables and Information Constraints:\n",
      "- **Key Variables**:\n",
      "  - Set of numbers (e.g., [a, b, c, d])\n",
      "  - Target number (e.g., T)\n",
      "- **Information Constraints**:\n",
      "  - The number of elements in the set must be four.\n",
      "  - Each number must be used exactly once.\n",
      "  - The operations must be limited to basic arithmetic.\n",
      "\n",
      "### Example Solution:\n",
      "Using the numbers [3, 3, 6, 6], one possible way to reach 24 is:\n",
      "1. (6 / 3) = 2\n",
      "2. (6 * 3) = 18\n",
      "3. (18 + 2) = 20\n",
      "4. (20 + 4) = 24\n",
      "\n",
      "This example illustrates how to manipulate the numbers to achieve the target.\n",
      "==================================\u001b[1m Ai Message \u001b[0m==================================\n",
      "\n",
      "### 1. Contextual Analysis\n",
      "The problem at hand involves manipulating a specific set of numbers ([3, 3, 6, 6]) using basic arithmetic operations to achieve a target number (24). This type of problem is commonly found in mathematical puzzles and games, where the goal is to use a limited set of numbers and operations to reach a specific result. \n",
      "\n",
      "Given the nature of the problem, a suitable domain expert would be a **Mathematician** or a **Game Designer** who specializes in puzzles and combinatorial problems. They would have the expertise to explore various combinations of operations and numbers to find a solution.\n",
      "\n",
      "### 2. Structure Selection\n",
      "For this problem, the **Programming-based Structure** is the most appropriate choice. This structure is well-suited for mathematical reasoning and can efficiently handle the combinatorial nature of the problem by systematically exploring different combinations of numbers and operations.\n",
      "\n",
      "### 3. Template Application\n",
      "Using the Programming-based Structure, we can outline a solution approach as follows:\n",
      "\n",
      "#### Problem Definition\n",
      "- **Input**: A list of numbers [3, 3, 6, 6] and a target number 24.\n",
      "- **Output**: A valid expression that equals 24 using each number exactly once.\n",
      "\n",
      "#### Steps to Solve\n",
      "1. **Generate Permutations**: Create all possible permutations of the numbers to explore different orders.\n",
      "2. **Generate Combinations of Operations**: For each permutation, generate all possible combinations of the four basic arithmetic operations (+, -, *, /).\n",
      "3. **Evaluate Expressions**: For each combination of numbers and operations, evaluate the expression to check if it equals 24.\n",
      "4. **Return Valid Expressions**: If a valid expression is found, return it; otherwise, indicate that no solution exists.\n",
      "\n",
      "#### Pseudocode\n",
      "```python\n",
      "import itertools\n",
      "import operator\n",
      "\n",
      "# Define the numbers and target\n",
      "numbers = [3, 3, 6, 6]\n",
      "target = 24\n",
      "\n",
      "# Define operations\n",
      "operations = [operator.add, operator.sub, operator.mul, operator.truediv]\n",
      "operation_symbols = ['+', '-', '*', '/']\n",
      "\n",
      "# Function to evaluate expressions\n",
      "def evaluate_expression(nums, ops):\n",
      "    # Start with the first number\n",
      "    result = nums[0]\n",
      "    for i in range(3):  # There are 3 operations for 4 numbers\n",
      "        result = ops[i](result, nums[i + 1])\n",
      "    return result\n",
      "\n",
      "# Generate all permutations of numbers and combinations of operations\n",
      "for num_perm in itertools.permutations(numbers):\n",
      "    for ops in itertools.product(operations, repeat=3):\n",
      "        try:\n",
      "            if evaluate_expression(num_perm, ops) == target:\n",
      "                # Construct the expression string\n",
      "                expression = f\"{num_perm[0]} {operation_symbols[operations.index(ops[0])]} {num_perm[1]} {operation_symbols[operations.index(ops[1])]} {num_perm[2]} {operation_symbols[operations.index(ops[2])]} {num_perm[3]}\"\n",
      "                print(f\"Valid expression: {expression} = {target}\")\n",
      "        except ZeroDivisionError:\n",
      "            continue  # Skip division by zero cases\n",
      "```\n",
      "\n",
      "### Conclusion\n",
      "By following this structured approach, we can systematically explore the combinations of numbers and operations to find a valid expression that equals 24. This method leverages programming techniques to efficiently solve the problem, making it suitable for a mathematician or game designer looking to create or solve similar puzzles.\n",
      "================================\u001b[1m Human Message \u001b[0m=================================\n",
      "\n",
      "Meta-Buffer updated\n"
     ]
    }
   ],
   "source": [
    "config = RunnableConfig(\n",
    "    max_concurrency=5,\n",
    "    configurable={\n",
    "        # ensuring a fresh run of the agent each time it is kicked off\n",
    "        \"thread_id\": \"24-game-0\",\n",
    "        \"retrieval_threshold\": 0.6,\n",
    "        \"in_task_threshold\": 0.8,\n",
    "        \"limit\": 100,\n",
    "    },\n",
    ")\n",
    "\n",
    "# Run the agent by streaming the graph\n",
    "for event in bot_agent.stream(\n",
    "    input={\"messages\": prompts[0]}, config=config, stream_mode=\"values\"\n",
    "):\n",
    "    if event[\"messages\"]:\n",
    "        event[\"messages\"][-1].pretty_print()"
   ]
  },
  {
   "cell_type": "markdown",
   "metadata": {},
   "source": [
    "For the Game of 24 problem, the agent retrieves the Coding Thought-Template and uses it to derive a Python program as a generic solution (caveat: the solution is printed in Polish notation)."
   ]
  },
  {
   "cell_type": "code",
   "execution_count": 39,
   "metadata": {},
   "outputs": [
    {
     "name": "stdout",
     "output_type": "stream",
     "text": [
      "3 * (6 + (6 / 3))\n"
     ]
    }
   ],
   "source": [
    "def extract_python_blocks(text: str) -> list[str]:\n",
    "    \"\"\"\n",
    "    Extracts the content between ```python ... ``` blocks from the given string.\n",
    "\n",
    "    Parameters\n",
    "    ----------\n",
    "    text\n",
    "        The input string containing Python code blocks.\n",
    "\n",
    "    Returns\n",
    "    -------\n",
    "    code\n",
    "        A list of strings, each containing the content of a Python code block.\n",
    "\n",
    "    \"\"\"\n",
    "    # Regex to match content between ```python ... ```\n",
    "    pattern = r\"```python\\n(.*?)```\"\n",
    "    # Use re.DOTALL to match across newlines\n",
    "    matches = re.findall(pattern, text, re.DOTALL)\n",
    "    return matches\n",
    "\n",
    "\n",
    "# retrieve the state of the graph which records the entire chat\n",
    "state = bot_agent.get_state(config)\n",
    "# get the last AI message which contains the solution\n",
    "lst_ai_message = [\n",
    "    mess for mess in state.values[\"messages\"] if isinstance(mess, AIMessage)\n",
    "].pop()\n",
    "# retrieve the code block from the solution text\n",
    "code = extract_python_blocks(lst_ai_message.content).pop()\n",
    "exec(code)"
   ]
  },
  {
   "cell_type": "markdown",
   "metadata": {},
   "source": [
    "The BoT-Agent generates a new Thought-Template for the 24-Game problem and updates the Long-term memory (aka Meta-Buffer)."
   ]
  },
  {
   "cell_type": "code",
   "execution_count": 40,
   "metadata": {},
   "outputs": [
    {
     "name": "stdout",
     "output_type": "stream",
     "text": [
      "{'solution_description': 'A Python class `ArithmeticSolver` that takes a list '\n",
      "                         'of four integers and a target integer, generates all '\n",
      "                         'possible arithmetic expressions using permutations '\n",
      "                         'of the numbers and combinations of operations, and '\n",
      "                         'evaluates them to find a valid expression that '\n",
      "                         'equals the target.',\n",
      " 'task_description': 'Combine a set of four numbers using basic arithmetic '\n",
      "                     'operations to reach a target number.',\n",
      " 'thought_template': '1. Define the Problem: Identify the goal and input '\n",
      "                     'format. 2. Determine Variables: Input and output '\n",
      "                     'variables. 3. List Key Equations or Constraints: Basic '\n",
      "                     'operations and handling exceptions. 4. Choose '\n",
      "                     'Appropriate Solving Strategies: Use permutations and '\n",
      "                     'combinations. 5. Verify the Correctness of Results: '\n",
      "                     'Check evaluated expressions and handle exceptions.'}\n"
     ]
    }
   ],
   "source": [
    "# Get a list of all keys stored in the specified namespace within the template store\n",
    "keys = list(template_store._data[namespace_for_memory])\n",
    "\n",
    "# Retrieve the last key in the list if there are any keys; otherwise, set key to None\n",
    "key = keys.pop() if keys else None\n",
    "\n",
    "# If a key was found, retrieve the corresponding value from the template store and print it in a human-readable format\n",
    "if key:\n",
    "    pprint(template_store.get(namespace_for_memory, key).value)"
   ]
  },
  {
   "cell_type": "markdown",
   "metadata": {},
   "source": [
    "We run the agent a second time for another example of the 24-game."
   ]
  },
  {
   "cell_type": "code",
   "execution_count": 27,
   "metadata": {},
   "outputs": [
    {
     "name": "stdout",
     "output_type": "stream",
     "text": [
      "================================\u001b[1m Human Message \u001b[0m=================================\n",
      "\n",
      "\n",
      "    Manipulate four numbers with basic arithmetic operations to reach 24.\n",
      "\n",
      "    <numbers>\n",
      "    [1, 1, 1, 11]\n",
      "    <numbers>\n",
      "    \n",
      "==================================\u001b[1m Ai Message \u001b[0m==================================\n",
      "\n",
      "### Key Information Extracted:\n",
      "- **Objective**: Manipulate the numbers [1, 1, 1, 11] using basic arithmetic operations to reach the target number 24.\n",
      "- **Key Variables**: \n",
      "  - Numbers: 1, 1, 1, 11\n",
      "  - Target: 24\n",
      "- **Operations Allowed**: Basic arithmetic operations (addition, subtraction, multiplication, division).\n",
      "\n",
      "### Constraints:\n",
      "- Must use all four numbers.\n",
      "- Each number can be used only once.\n",
      "- Only basic arithmetic operations are allowed.\n",
      "\n",
      "### Distilled Task:\n",
      "- **Extended Problem**: Given a set of four numbers, determine if it is possible to manipulate them using basic arithmetic operations to reach a specified target number. This can be generalized to any set of four numbers and any target number.\n",
      "- **Real-World Scenario**: This problem can be applied in various fields such as game design (e.g., number puzzles), education (teaching arithmetic), and algorithm development (solving combinatorial problems).\n",
      "\n",
      "### Types of Key Variables and Information Constraints:\n",
      "- **Key Variables**:\n",
      "  - Set of numbers (e.g., [a, b, c, d])\n",
      "  - Target number (e.g., T)\n",
      "- **Information Constraints**:\n",
      "  - The set must contain exactly four numbers.\n",
      "  - Each number must be used exactly once.\n",
      "  - Only basic arithmetic operations are permitted.\n",
      "\n",
      "### Example to Solve the Problem:\n",
      "Using the numbers [1, 1, 1, 11]:\n",
      "1. Combine the three 1s: \\(1 + 1 + 1 = 3\\)\n",
      "2. Multiply the result by 11: \\(3 \\times 11 = 33\\)\n",
      "3. Subtract 9 (which can be formed by \\(11 - 1 - 1\\)): \\(33 - 9 = 24\\)\n",
      "\n",
      "Thus, the solution to the problem is achievable with the given numbers and operations.\n",
      "==================================\u001b[1m Ai Message \u001b[0m==================================\n",
      "\n",
      "### Contextual Analysis\n",
      "The problem at hand involves manipulating a specific set of numbers ([1, 1, 1, 11]) using basic arithmetic operations to achieve a target number (24). This type of problem falls under the domain of mathematical reasoning and combinatorial problem-solving. A suitable domain expert for this task would be a mathematician or a computer scientist with expertise in algorithm design, particularly in combinatorial algorithms.\n",
      "\n",
      "### Structure Selection\n",
      "Given the nature of the problem, which involves generating combinations and evaluating expressions, the **Programming-based Structure** is the most appropriate choice. This structure allows for the transformation of the problem into a programming context, where we can systematically explore all possible combinations and permutations of the numbers and operations.\n",
      "\n",
      "### Template Application\n",
      "Following the provided thought-template, we can instantiate the solution as follows:\n",
      "\n",
      "1. **Problem Definition**:\n",
      "   - **Input**: A list of four numbers: `[1, 1, 1, 11]` and a target number: `24`.\n",
      "   - **Output**: A valid arithmetic expression that equals the target number.\n",
      "\n",
      "2. **Determine Variables**:\n",
      "   - **Input Variables**:\n",
      "     - `numbers`: List of four integers, e.g., `[1, 1, 1, 11]`.\n",
      "     - `target`: Integer representing the target number, e.g., `24`.\n",
      "   - **Output Variable**:\n",
      "     - `expression`: String representation of the valid arithmetic expression.\n",
      "\n",
      "3. **List Key Equations or Constraints**:\n",
      "   - Each number must be used exactly once.\n",
      "   - The operations allowed are addition (`+`), subtraction (`-`), multiplication (`*`), and division (`/`).\n",
      "   - Division by zero must be avoided.\n",
      "\n",
      "4. **Choose Appropriate Solving Strategies and Methods**:\n",
      "   - **Permutations**: Generate all possible arrangements of the input numbers.\n",
      "   - **Combinations of Operations**: Generate all possible combinations of the four basic arithmetic operations.\n",
      "   - **Evaluation**: Implement a method to evaluate the expressions formed by the numbers and operations.\n",
      "\n",
      "5. **Verify Correctness of Results**:\n",
      "   - Check if the evaluated expression equals the target (24).\n",
      "   - Handle exceptions (e.g., division by zero) gracefully.\n",
      "\n",
      "### Implementation Example\n",
      "Here is a Python implementation that follows the outlined strategy:\n",
      "\n",
      "```python\n",
      "import itertools\n",
      "import operator\n",
      "\n",
      "def evaluate_expression(numbers, operations):\n",
      "    # Create a string representation of the expression\n",
      "    expression = f\"({numbers[0]} {operations[0]} {numbers[1]}) {operations[1]} ({numbers[2]} {operations[2]} {numbers[3]})\"\n",
      "    try:\n",
      "        # Evaluate the expression\n",
      "        return eval(expression)\n",
      "    except ZeroDivisionError:\n",
      "        return None\n",
      "\n",
      "def find_expression(numbers, target):\n",
      "    ops = ['+', '-', '*', '/']\n",
      "    for num_perm in itertools.permutations(numbers):\n",
      "        for ops_comb in itertools.product(ops, repeat=3):\n",
      "            result = evaluate_expression(num_perm, ops_comb)\n",
      "            if result == target:\n",
      "                return f\"{num_perm[0]} {ops_comb[0]} {num_perm[1]} {ops_comb[1]} {num_perm[2]} {ops_comb[2]} {num_perm[3]} = {target}\"\n",
      "    return \"No valid expression found.\"\n",
      "\n",
      "# Example usage\n",
      "numbers = [1, 1, 1, 11]\n",
      "target = 24\n",
      "print(find_expression(numbers, target))\n",
      "```\n",
      "\n",
      "### Conclusion\n",
      "This implementation systematically explores all permutations of the numbers and combinations of operations to find a valid expression that equals the target number. It adheres to the constraints and handles exceptions appropriately, providing a robust solution to the problem.\n"
     ]
    }
   ],
   "source": [
    "# update the thread, i.e., start a new conversation\n",
    "config[\"configurable\"][\"thread_id\"] = \"24-game-1\"\n",
    "\n",
    "# Run the agent by streaming the graph\n",
    "for event in bot_agent.stream(\n",
    "    input={\"messages\": prompts[1]}, config=config, stream_mode=\"values\"\n",
    "):\n",
    "    if event[\"messages\"]:\n",
    "        event[\"messages\"][-1].pretty_print()"
   ]
  },
  {
   "cell_type": "markdown",
   "metadata": {},
   "source": [
    "This time the agent re-used the previously generated thought template and did not distill a new one for deriving the solution."
   ]
  },
  {
   "cell_type": "code",
   "execution_count": 44,
   "metadata": {},
   "outputs": [
    {
     "name": "stdout",
     "output_type": "stream",
     "text": [
      "(1 + 1) * (1 + 11)\n"
     ]
    }
   ],
   "source": [
    "# retrieve the state of the graph which records the entire chat\n",
    "state = bot_agent.get_state(config)\n",
    "# get the last AI message which contains the solution\n",
    "lst_ai_message = [\n",
    "    mess for mess in state.values[\"messages\"] if isinstance(mess, AIMessage)\n",
    "].pop()\n",
    "# retrieve the code block from the solution text\n",
    "code = extract_python_blocks(lst_ai_message.content).pop()\n",
    "exec(code)"
   ]
  },
  {
   "cell_type": "code",
   "execution_count": 65,
   "metadata": {},
   "outputs": [],
   "source": [
    "from nbdev.showdoc import *"
   ]
  },
  {
   "cell_type": "code",
   "execution_count": 66,
   "metadata": {},
   "outputs": [],
   "source": [
    "import nbdev\n",
    "\n",
    "nbdev.nbdev_export()"
   ]
  }
 ],
 "metadata": {
  "kernelspec": {
   "display_name": "python3",
   "language": "python",
   "name": "python3"
  },
  "language_info": {
   "name": "python",
   "version": "3.12.6"
  }
 },
 "nbformat": 4,
 "nbformat_minor": 2
}
